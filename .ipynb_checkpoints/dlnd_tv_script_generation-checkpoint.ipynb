{
 "cells": [
  {
   "cell_type": "markdown",
   "metadata": {},
   "source": [
    "# TV Script Generation\n",
    "In this project, you'll generate your own [Simpsons](https://en.wikipedia.org/wiki/The_Simpsons) TV scripts using RNNs.  You'll be using part of the [Simpsons dataset](https://www.kaggle.com/wcukierski/the-simpsons-by-the-data) of scripts from 27 seasons.  The Neural Network you'll build will generate a new TV script for a scene at [Moe's Tavern](https://simpsonswiki.com/wiki/Moe's_Tavern).\n",
    "## Get the Data\n",
    "The data is already provided for you.  You'll be using a subset of the original dataset.  It consists of only the scenes in Moe's Tavern.  This doesn't include other versions of the tavern, like \"Moe's Cavern\", \"Flaming Moe's\", \"Uncle Moe's Family Feed-Bag\", etc.."
   ]
  },
  {
   "cell_type": "code",
   "execution_count": 103,
   "metadata": {},
   "outputs": [],
   "source": [
    "\"\"\"\n",
    "DON'T MODIFY ANYTHING IN THIS CELL\n",
    "\"\"\"\n",
    "import helper\n",
    "\n",
    "data_dir = './data/simpsons/moes_tavern_lines.txt'\n",
    "text = helper.load_data(data_dir)\n",
    "# Ignore notice, since we don't use it for analysing the data\n",
    "text = text[81:]"
   ]
  },
  {
   "cell_type": "markdown",
   "metadata": {},
   "source": [
    "## Explore the Data\n",
    "Play around with `view_sentence_range` to view different parts of the data."
   ]
  },
  {
   "cell_type": "code",
   "execution_count": 104,
   "metadata": {},
   "outputs": [
    {
     "name": "stdout",
     "output_type": "stream",
     "text": [
      "Dataset Stats\n",
      "Roughly the number of unique words: 11492\n",
      "Number of scenes: 262\n",
      "Average number of sentences in each scene: 15.248091603053435\n",
      "Number of lines: 4257\n",
      "Average number of words in each line: 11.50434578341555\n",
      "\n",
      "The sentences 0 to 10:\n",
      "Moe_Szyslak: (INTO PHONE) Moe's Tavern. Where the elite meet to drink.\n",
      "Bart_Simpson: Eh, yeah, hello, is Mike there? Last name, Rotch.\n",
      "Moe_Szyslak: (INTO PHONE) Hold on, I'll check. (TO BARFLIES) Mike Rotch. Mike Rotch. Hey, has anybody seen Mike Rotch, lately?\n",
      "Moe_Szyslak: (INTO PHONE) Listen you little puke. One of these days I'm gonna catch you, and I'm gonna carve my name on your back with an ice pick.\n",
      "Moe_Szyslak: What's the matter Homer? You're not your normal effervescent self.\n",
      "Homer_Simpson: I got my problems, Moe. Give me another one.\n",
      "Moe_Szyslak: Homer, hey, you should not drink to forget your problems.\n",
      "Barney_Gumble: Yeah, you should only drink to enhance your social skills.\n",
      "\n",
      "\n"
     ]
    }
   ],
   "source": [
    "view_sentence_range = (0, 10)\n",
    "\n",
    "\"\"\"\n",
    "DON'T MODIFY ANYTHING IN THIS CELL\n",
    "\"\"\"\n",
    "import numpy as np\n",
    "\n",
    "print('Dataset Stats')\n",
    "print('Roughly the number of unique words: {}'.format(len({word: None for word in text.split()})))\n",
    "scenes = text.split('\\n\\n')\n",
    "print('Number of scenes: {}'.format(len(scenes)))\n",
    "sentence_count_scene = [scene.count('\\n') for scene in scenes]\n",
    "print('Average number of sentences in each scene: {}'.format(np.average(sentence_count_scene)))\n",
    "\n",
    "sentences = [sentence for scene in scenes for sentence in scene.split('\\n')]\n",
    "print('Number of lines: {}'.format(len(sentences)))\n",
    "word_count_sentence = [len(sentence.split()) for sentence in sentences]\n",
    "print('Average number of words in each line: {}'.format(np.average(word_count_sentence)))\n",
    "\n",
    "print()\n",
    "print('The sentences {} to {}:'.format(*view_sentence_range))\n",
    "print('\\n'.join(text.split('\\n')[view_sentence_range[0]:view_sentence_range[1]]))"
   ]
  },
  {
   "cell_type": "markdown",
   "metadata": {},
   "source": [
    "## Implement Preprocessing Functions\n",
    "The first thing to do to any dataset is preprocessing.  Implement the following preprocessing functions below:\n",
    "- Lookup Table\n",
    "- Tokenize Punctuation\n",
    "\n",
    "### Lookup Table\n",
    "To create a word embedding, you first need to transform the words to ids.  In this function, create two dictionaries:\n",
    "- Dictionary to go from the words to an id, we'll call `vocab_to_int`\n",
    "- Dictionary to go from the id to word, we'll call `int_to_vocab`\n",
    "\n",
    "Return these dictionaries in the following tuple `(vocab_to_int, int_to_vocab)`"
   ]
  },
  {
   "cell_type": "code",
   "execution_count": 105,
   "metadata": {},
   "outputs": [
    {
     "name": "stdout",
     "output_type": "stream",
     "text": [
      "Tests Passed\n"
     ]
    }
   ],
   "source": [
    "import numpy as np\n",
    "import problem_unittests as tests\n",
    "\n",
    "def create_lookup_tables(text):\n",
    "    \"\"\"\n",
    "    Create lookup tables for vocabulary\n",
    "    :param text: The text of tv scripts split into words\n",
    "    :return: A tuple of dicts (vocab_to_int, int_to_vocab)\n",
    "    \"\"\"\n",
    "    # TODO: Implement Function\n",
    "    from collections import Counter\n",
    "    counts = Counter(text)\n",
    "    vocab_sorted = sorted(counts, key=counts.get, reverse=True)\n",
    "    vocab_to_int = {word: ii for ii, word in enumerate(vocab_sorted)}\n",
    "    int_to_vocab = {ii: word for word, ii in vocab_to_int.items()}\n",
    "    return vocab_to_int, int_to_vocab\n",
    "\n",
    "\"\"\"\n",
    "DON'T MODIFY ANYTHING IN THIS CELL THAT IS BELOW THIS LINE\n",
    "\"\"\"\n",
    "tests.test_create_lookup_tables(create_lookup_tables)"
   ]
  },
  {
   "cell_type": "markdown",
   "metadata": {},
   "source": [
    "### Tokenize Punctuation\n",
    "We'll be splitting the script into a word array using spaces as delimiters.  However, punctuations like periods and exclamation marks make it hard for the neural network to distinguish between the word \"bye\" and \"bye!\".\n",
    "\n",
    "Implement the function `token_lookup` to return a dict that will be used to tokenize symbols like \"!\" into \"||Exclamation_Mark||\".  Create a dictionary for the following symbols where the symbol is the key and value is the token:\n",
    "- Period ( . )\n",
    "- Comma ( , )\n",
    "- Quotation Mark ( \" )\n",
    "- Semicolon ( ; )\n",
    "- Exclamation mark ( ! )\n",
    "- Question mark ( ? )\n",
    "- Left Parentheses ( ( )\n",
    "- Right Parentheses ( ) )\n",
    "- Dash ( -- )\n",
    "- Return ( \\n )\n",
    "\n",
    "This dictionary will be used to token the symbols and add the delimiter (space) around it.  This separates the symbols as it's own word, making it easier for the neural network to predict on the next word. Make sure you don't use a token that could be confused as a word. Instead of using the token \"dash\", try using something like \"||dash||\"."
   ]
  },
  {
   "cell_type": "code",
   "execution_count": 106,
   "metadata": {},
   "outputs": [
    {
     "name": "stdout",
     "output_type": "stream",
     "text": [
      "Tests Passed\n"
     ]
    }
   ],
   "source": [
    "def token_lookup():\n",
    "    \"\"\"\n",
    "    Generate a dict to turn punctuation into a token.\n",
    "    :return: Tokenize dictionary where the key is the punctuation and the value is the token\n",
    "    \"\"\"\n",
    "    # TODO: Implement Function\n",
    "    tokens = {}\n",
    "    tokens['.'] = '||dot||'\n",
    "    tokens[','] = '||comma||'\n",
    "    tokens['\\\"'] = '||quotation||'\n",
    "    tokens[';'] = '||semicolon||'\n",
    "    tokens['!'] = '||exclamation||'\n",
    "    tokens['?'] = '||question||'\n",
    "    tokens['('] = '||left||'\n",
    "    tokens[')'] = '||right||'\n",
    "    tokens['--'] = '||dash||'\n",
    "    tokens['\\n'] = '||return||'\n",
    "    return tokens\n",
    "\n",
    "\"\"\"\n",
    "DON'T MODIFY ANYTHING IN THIS CELL THAT IS BELOW THIS LINE\n",
    "\"\"\"\n",
    "tests.test_tokenize(token_lookup)"
   ]
  },
  {
   "cell_type": "markdown",
   "metadata": {},
   "source": [
    "## Preprocess all the data and save it\n",
    "Running the code cell below will preprocess all the data and save it to file."
   ]
  },
  {
   "cell_type": "code",
   "execution_count": 107,
   "metadata": {},
   "outputs": [],
   "source": [
    "\"\"\"\n",
    "DON'T MODIFY ANYTHING IN THIS CELL\n",
    "\"\"\"\n",
    "# Preprocess Training, Validation, and Testing Data\n",
    "helper.preprocess_and_save_data(data_dir, token_lookup, create_lookup_tables)"
   ]
  },
  {
   "cell_type": "markdown",
   "metadata": {},
   "source": [
    "# Check Point\n",
    "This is your first checkpoint. If you ever decide to come back to this notebook or have to restart the notebook, you can start from here. The preprocessed data has been saved to disk."
   ]
  },
  {
   "cell_type": "code",
   "execution_count": 108,
   "metadata": {},
   "outputs": [],
   "source": [
    "\"\"\"\n",
    "DON'T MODIFY ANYTHING IN THIS CELL\n",
    "\"\"\"\n",
    "import helper\n",
    "import numpy as np\n",
    "import problem_unittests as tests\n",
    "\n",
    "int_text, vocab_to_int, int_to_vocab, token_dict = helper.load_preprocess()"
   ]
  },
  {
   "cell_type": "markdown",
   "metadata": {},
   "source": [
    "## Build the Neural Network\n",
    "You'll build the components necessary to build a RNN by implementing the following functions below:\n",
    "- get_inputs\n",
    "- get_init_cell\n",
    "- get_embed\n",
    "- build_rnn\n",
    "- build_nn\n",
    "- get_batches\n",
    "\n",
    "### Check the Version of TensorFlow and Access to GPU"
   ]
  },
  {
   "cell_type": "code",
   "execution_count": 109,
   "metadata": {},
   "outputs": [
    {
     "name": "stdout",
     "output_type": "stream",
     "text": [
      "TensorFlow Version: 1.0.0\n",
      "Default GPU Device: /gpu:0\n"
     ]
    }
   ],
   "source": [
    "\"\"\"\n",
    "DON'T MODIFY ANYTHING IN THIS CELL\n",
    "\"\"\"\n",
    "from distutils.version import LooseVersion\n",
    "import warnings\n",
    "import tensorflow as tf\n",
    "\n",
    "# Check TensorFlow Version\n",
    "assert LooseVersion(tf.__version__) >= LooseVersion('1.0'), 'Please use TensorFlow version 1.0 or newer'\n",
    "print('TensorFlow Version: {}'.format(tf.__version__))\n",
    "\n",
    "# Check for a GPU\n",
    "if not tf.test.gpu_device_name():\n",
    "    warnings.warn('No GPU found. Please use a GPU to train your neural network.')\n",
    "else:\n",
    "    print('Default GPU Device: {}'.format(tf.test.gpu_device_name()))"
   ]
  },
  {
   "cell_type": "markdown",
   "metadata": {},
   "source": [
    "### Input\n",
    "Implement the `get_inputs()` function to create TF Placeholders for the Neural Network.  It should create the following placeholders:\n",
    "- Input text placeholder named \"input\" using the [TF Placeholder](https://www.tensorflow.org/api_docs/python/tf/placeholder) `name` parameter.\n",
    "- Targets placeholder\n",
    "- Learning Rate placeholder\n",
    "\n",
    "Return the placeholders in the following tuple `(Input, Targets, LearningRate)`"
   ]
  },
  {
   "cell_type": "code",
   "execution_count": 110,
   "metadata": {},
   "outputs": [
    {
     "name": "stdout",
     "output_type": "stream",
     "text": [
      "Tests Passed\n"
     ]
    }
   ],
   "source": [
    "def get_inputs():\n",
    "    \"\"\"\n",
    "    Create TF Placeholders for input, targets, and learning rate.\n",
    "    :return: Tuple (input, targets, learning rate)\n",
    "    \"\"\"\n",
    "    # TODO: Implement Function\n",
    "    inputs = tf.placeholder(tf.int32, [None, None], name='input')\n",
    "    targets = tf.placeholder(tf.int32, [None, None], name='targets')\n",
    "    learning_rate = tf.placeholder(tf.float32, name='learning_rate')\n",
    "    return inputs, targets, learning_rate\n",
    "\n",
    "\n",
    "\"\"\"\n",
    "DON'T MODIFY ANYTHING IN THIS CELL THAT IS BELOW THIS LINE\n",
    "\"\"\"\n",
    "tests.test_get_inputs(get_inputs)"
   ]
  },
  {
   "cell_type": "markdown",
   "metadata": {},
   "source": [
    "### Build RNN Cell and Initialize\n",
    "Stack one or more [`BasicLSTMCells`](https://www.tensorflow.org/api_docs/python/tf/contrib/rnn/BasicLSTMCell) in a [`MultiRNNCell`](https://www.tensorflow.org/api_docs/python/tf/contrib/rnn/MultiRNNCell).\n",
    "- The Rnn size should be set using `rnn_size`\n",
    "- Initalize Cell State using the MultiRNNCell's [`zero_state()`](https://www.tensorflow.org/api_docs/python/tf/contrib/rnn/MultiRNNCell#zero_state) function\n",
    "    - Apply the name \"initial_state\" to the initial state using [`tf.identity()`](https://www.tensorflow.org/api_docs/python/tf/identity)\n",
    "\n",
    "Return the cell and initial state in the following tuple `(Cell, InitialState)`"
   ]
  },
  {
   "cell_type": "code",
   "execution_count": 111,
   "metadata": {},
   "outputs": [
    {
     "name": "stdout",
     "output_type": "stream",
     "text": [
      "Tests Passed\n"
     ]
    }
   ],
   "source": [
    "def get_init_cell(batch_size, rnn_size):\n",
    "    \"\"\"\n",
    "    Create an RNN Cell and initialize it.\n",
    "    :param batch_size: Size of batches\n",
    "    :param rnn_size: Size of RNNs\n",
    "    :return: Tuple (cell, initialize state)\n",
    "    \"\"\"\n",
    "    # TODO: Implement Function\n",
    "    lstm = tf.contrib.rnn.BasicLSTMCell(rnn_size)\n",
    "    drop = tf.contrib.rnn.DropoutWrapper(lstm, output_keep_prob=1.0)\n",
    "    \n",
    "    cell = tf.contrib.rnn.MultiRNNCell([drop])\n",
    "    \n",
    "    initial_state = cell.zero_state(batch_size, tf.float32)\n",
    "    initial_state = tf.identity(initial_state, name=\"initial_state\")\n",
    "    return cell, initial_state\n",
    "\n",
    "\n",
    "\"\"\"\n",
    "DON'T MODIFY ANYTHING IN THIS CELL THAT IS BELOW THIS LINE\n",
    "\"\"\"\n",
    "tests.test_get_init_cell(get_init_cell)"
   ]
  },
  {
   "cell_type": "markdown",
   "metadata": {},
   "source": [
    "### Word Embedding\n",
    "Apply embedding to `input_data` using TensorFlow.  Return the embedded sequence."
   ]
  },
  {
   "cell_type": "code",
   "execution_count": 112,
   "metadata": {},
   "outputs": [
    {
     "name": "stdout",
     "output_type": "stream",
     "text": [
      "Tests Passed\n"
     ]
    }
   ],
   "source": [
    "def get_embed(input_data, vocab_size, embed_dim):\n",
    "    \"\"\"\n",
    "    Create embedding for <input_data>.\n",
    "    :param input_data: TF placeholder for text input.\n",
    "    :param vocab_size: Number of words in vocabulary.\n",
    "    :param embed_dim: Number of embedding dimensions\n",
    "    :return: Embedded input.\n",
    "    \"\"\"\n",
    "    # TODO: Implement Function\n",
    "    embedding = tf.Variable(tf.random_uniform((vocab_size, embed_dim), -1, 1))\n",
    "    embed = tf.nn.embedding_lookup(embedding, input_data)\n",
    "    return embed\n",
    "\n",
    "\n",
    "\"\"\"\n",
    "DON'T MODIFY ANYTHING IN THIS CELL THAT IS BELOW THIS LINE\n",
    "\"\"\"\n",
    "tests.test_get_embed(get_embed)"
   ]
  },
  {
   "cell_type": "markdown",
   "metadata": {},
   "source": [
    "### Build RNN\n",
    "You created a RNN Cell in the `get_init_cell()` function.  Time to use the cell to create a RNN.\n",
    "- Build the RNN using the [`tf.nn.dynamic_rnn()`](https://www.tensorflow.org/api_docs/python/tf/nn/dynamic_rnn)\n",
    " - Apply the name \"final_state\" to the final state using [`tf.identity()`](https://www.tensorflow.org/api_docs/python/tf/identity)\n",
    "\n",
    "Return the outputs and final_state state in the following tuple `(Outputs, FinalState)` "
   ]
  },
  {
   "cell_type": "code",
   "execution_count": 113,
   "metadata": {},
   "outputs": [
    {
     "name": "stdout",
     "output_type": "stream",
     "text": [
      "Tests Passed\n"
     ]
    }
   ],
   "source": [
    "def build_rnn(cell, inputs):\n",
    "    \"\"\"\n",
    "    Create a RNN using a RNN Cell\n",
    "    :param cell: RNN Cell\n",
    "    :param inputs: Input text data\n",
    "    :return: Tuple (Outputs, Final State)\n",
    "    \"\"\"\n",
    "    # TODO: Implement Function\n",
    "    outputs, final_state = tf.nn.dynamic_rnn(cell, inputs, dtype=tf.float32)\n",
    "    final_state = tf.identity(final_state, name=\"final_state\")\n",
    "    return outputs, final_state\n",
    "\n",
    "\n",
    "\"\"\"\n",
    "DON'T MODIFY ANYTHING IN THIS CELL THAT IS BELOW THIS LINE\n",
    "\"\"\"\n",
    "tests.test_build_rnn(build_rnn)"
   ]
  },
  {
   "cell_type": "markdown",
   "metadata": {},
   "source": [
    "### Build the Neural Network\n",
    "Apply the functions you implemented above to:\n",
    "- Apply embedding to `input_data` using your `get_embed(input_data, vocab_size, embed_dim)` function.\n",
    "- Build RNN using `cell` and your `build_rnn(cell, inputs)` function.\n",
    "- Apply a fully connected layer with a linear activation and `vocab_size` as the number of outputs.\n",
    "\n",
    "Return the logits and final state in the following tuple (Logits, FinalState) "
   ]
  },
  {
   "cell_type": "code",
   "execution_count": 114,
   "metadata": {},
   "outputs": [
    {
     "name": "stdout",
     "output_type": "stream",
     "text": [
      "Tests Passed\n"
     ]
    }
   ],
   "source": [
    "def build_nn(cell, rnn_size, input_data, vocab_size, embed_dim):\n",
    "    \"\"\"\n",
    "    Build part of the neural network\n",
    "    :param cell: RNN cell\n",
    "    :param rnn_size: Size of rnns\n",
    "    :param input_data: Input data\n",
    "    :param vocab_size: Vocabulary size\n",
    "    :param embed_dim: Number of embedding dimensions\n",
    "    :return: Tuple (Logits, FinalState)\n",
    "    \"\"\"\n",
    "    # TODO: Implement Function\n",
    "    embed = get_embed(input_data, vocab_size, embed_dim)\n",
    "    outputs, final_state = build_rnn(cell, embed)\n",
    "    logits = tf.contrib.layers.fully_connected(outputs, vocab_size, activation_fn=None)\n",
    "    return logits, final_state\n",
    "\n",
    "\n",
    "\"\"\"\n",
    "DON'T MODIFY ANYTHING IN THIS CELL THAT IS BELOW THIS LINE\n",
    "\"\"\"\n",
    "tests.test_build_nn(build_nn)"
   ]
  },
  {
   "cell_type": "markdown",
   "metadata": {},
   "source": [
    "### Batches\n",
    "Implement `get_batches` to create batches of input and targets using `int_text`.  The batches should be a Numpy array with the shape `(number of batches, 2, batch size, sequence length)`. Each batch contains two elements:\n",
    "- The first element is a single batch of **input** with the shape `[batch size, sequence length]`\n",
    "- The second element is a single batch of **targets** with the shape `[batch size, sequence length]`\n",
    "\n",
    "If you can't fill the last batch with enough data, drop the last batch.\n",
    "\n",
    "For exmple, `get_batches([1, 2, 3, 4, 5, 6, 7, 8, 9, 10, 11, 12, 13, 14, 15, 16, 17, 18, 19, 20], 3, 2)` would return a Numpy array of the following:\n",
    "```\n",
    "[\n",
    "  # First Batch\n",
    "  [\n",
    "    # Batch of Input\n",
    "    [[ 1  2], [ 7  8], [13 14]]\n",
    "    # Batch of targets\n",
    "    [[ 2  3], [ 8  9], [14 15]]\n",
    "  ]\n",
    "\n",
    "  # Second Batch\n",
    "  [\n",
    "    # Batch of Input\n",
    "    [[ 3  4], [ 9 10], [15 16]]\n",
    "    # Batch of targets\n",
    "    [[ 4  5], [10 11], [16 17]]\n",
    "  ]\n",
    "\n",
    "  # Third Batch\n",
    "  [\n",
    "    # Batch of Input\n",
    "    [[ 5  6], [11 12], [17 18]]\n",
    "    # Batch of targets\n",
    "    [[ 6  7], [12 13], [18  1]]\n",
    "  ]\n",
    "]\n",
    "```\n",
    "\n",
    "Notice that the last target value in the last batch is the first input value of the first batch. In this case, `1`. This is a common technique used when creating sequence batches, although it is rather unintuitive."
   ]
  },
  {
   "cell_type": "code",
   "execution_count": 115,
   "metadata": {},
   "outputs": [
    {
     "name": "stdout",
     "output_type": "stream",
     "text": [
      "Tests Passed\n"
     ]
    }
   ],
   "source": [
    "def get_batches(int_text, batch_size, seq_length):\n",
    "    \"\"\"\n",
    "    Return batches of input and target\n",
    "    :param int_text: Text with the words replaced by their ids\n",
    "    :param batch_size: The size of batch\n",
    "    :param seq_length: The length of sequence\n",
    "    :return: Batches as a Numpy array\n",
    "    \"\"\"\n",
    "    # TODO: Implement Function\n",
    "    n_batches = len(int_text) // (batch_size * seq_length)\n",
    "\n",
    "    x = np.array(int_text[: n_batches * batch_size * seq_length])\n",
    "    # Get targets\n",
    "    targets = np.array(int_text[1: n_batches * batch_size * seq_length]  + [int_text[0]])\n",
    "\n",
    "    x_batches = np.split(x.reshape(batch_size, -1), n_batches, 1)\n",
    "    target_batches = np.split(targets.reshape(batch_size, -1), n_batches, 1)\n",
    "\n",
    "    return np.array(list(zip(x_batches, target_batches)))\n",
    "\n",
    "# print(get_batches([1, 2, 3, 4, 5, 6, 7, 8, 9, 10, 11, 12, 13, 14, 15, 16, 17, 18, 19, 20], 3, 2))\n",
    "\"\"\"\n",
    "DON'T MODIFY ANYTHING IN THIS CELL THAT IS BELOW THIS LINE\n",
    "\"\"\"\n",
    "tests.test_get_batches(get_batches)"
   ]
  },
  {
   "cell_type": "markdown",
   "metadata": {},
   "source": [
    "## Neural Network Training\n",
    "### Hyperparameters\n",
    "Tune the following parameters:\n",
    "\n",
    "- Set `num_epochs` to the number of epochs.\n",
    "- Set `batch_size` to the batch size.\n",
    "- Set `rnn_size` to the size of the RNNs.\n",
    "- Set `embed_dim` to the size of the embedding.\n",
    "- Set `seq_length` to the length of sequence.\n",
    "- Set `learning_rate` to the learning rate.\n",
    "- Set `show_every_n_batches` to the number of batches the neural network should print progress."
   ]
  },
  {
   "cell_type": "code",
   "execution_count": 116,
   "metadata": {},
   "outputs": [],
   "source": [
    "# Number of Epochs\n",
    "num_epochs = 50\n",
    "# Batch Size\n",
    "batch_size = 64\n",
    "# RNN Size\n",
    "rnn_size = 1024\n",
    "# Embedding Dimension Size\n",
    "embed_dim = 300\n",
    "# Sequence Length\n",
    "seq_length = 16\n",
    "# Learning Rate\n",
    "learning_rate = 0.001\n",
    "# Show stats for every n number of batches\n",
    "show_every_n_batches = 10\n",
    "\n",
    "\"\"\"\n",
    "DON'T MODIFY ANYTHING IN THIS CELL THAT IS BELOW THIS LINE\n",
    "\"\"\"\n",
    "save_dir = './save'"
   ]
  },
  {
   "cell_type": "markdown",
   "metadata": {},
   "source": [
    "### Build the Graph\n",
    "Build the graph using the neural network you implemented."
   ]
  },
  {
   "cell_type": "code",
   "execution_count": 117,
   "metadata": {},
   "outputs": [],
   "source": [
    "\"\"\"\n",
    "DON'T MODIFY ANYTHING IN THIS CELL\n",
    "\"\"\"\n",
    "from tensorflow.contrib import seq2seq\n",
    "\n",
    "train_graph = tf.Graph()\n",
    "with train_graph.as_default():\n",
    "    vocab_size = len(int_to_vocab)\n",
    "    input_text, targets, lr = get_inputs()\n",
    "    input_data_shape = tf.shape(input_text)\n",
    "    cell, initial_state = get_init_cell(input_data_shape[0], rnn_size)\n",
    "    logits, final_state = build_nn(cell, rnn_size, input_text, vocab_size, embed_dim)\n",
    "\n",
    "    # Probabilities for generating words\n",
    "    probs = tf.nn.softmax(logits, name='probs')\n",
    "\n",
    "    # Loss function\n",
    "    cost = seq2seq.sequence_loss(\n",
    "        logits,\n",
    "        targets,\n",
    "        tf.ones([input_data_shape[0], input_data_shape[1]]))\n",
    "\n",
    "    # Optimizer\n",
    "    optimizer = tf.train.AdamOptimizer(lr)\n",
    "\n",
    "    # Gradient Clipping\n",
    "    gradients = optimizer.compute_gradients(cost)\n",
    "    capped_gradients = [(tf.clip_by_value(grad, -1., 1.), var) for grad, var in gradients if grad is not None]\n",
    "    train_op = optimizer.apply_gradients(capped_gradients)"
   ]
  },
  {
   "cell_type": "markdown",
   "metadata": {},
   "source": [
    "## Train\n",
    "Train the neural network on the preprocessed data.  If you have a hard time getting a good loss, check the [forums](https://discussions.udacity.com/) to see if anyone is having the same problem."
   ]
  },
  {
   "cell_type": "code",
   "execution_count": 118,
   "metadata": {},
   "outputs": [
    {
     "name": "stdout",
     "output_type": "stream",
     "text": [
      "Epoch   0 Batch    0/67   train_loss = 8.825\n",
      "Epoch   0 Batch   10/67   train_loss = 6.702\n",
      "Epoch   0 Batch   20/67   train_loss = 6.299\n",
      "Epoch   0 Batch   30/67   train_loss = 6.030\n",
      "Epoch   0 Batch   40/67   train_loss = 6.138\n",
      "Epoch   0 Batch   50/67   train_loss = 5.725\n",
      "Epoch   0 Batch   60/67   train_loss = 5.685\n",
      "Epoch   1 Batch    3/67   train_loss = 5.507\n",
      "Epoch   1 Batch   13/67   train_loss = 5.411\n",
      "Epoch   1 Batch   23/67   train_loss = 5.403\n",
      "Epoch   1 Batch   33/67   train_loss = 5.273\n",
      "Epoch   1 Batch   43/67   train_loss = 5.421\n",
      "Epoch   1 Batch   53/67   train_loss = 5.481\n",
      "Epoch   1 Batch   63/67   train_loss = 5.134\n",
      "Epoch   2 Batch    6/67   train_loss = 5.011\n",
      "Epoch   2 Batch   16/67   train_loss = 5.099\n",
      "Epoch   2 Batch   26/67   train_loss = 4.928\n",
      "Epoch   2 Batch   36/67   train_loss = 5.020\n",
      "Epoch   2 Batch   46/67   train_loss = 4.907\n",
      "Epoch   2 Batch   56/67   train_loss = 4.953\n",
      "Epoch   2 Batch   66/67   train_loss = 4.726\n",
      "Epoch   3 Batch    9/67   train_loss = 4.754\n",
      "Epoch   3 Batch   19/67   train_loss = 4.716\n",
      "Epoch   3 Batch   29/67   train_loss = 4.926\n",
      "Epoch   3 Batch   39/67   train_loss = 4.612\n",
      "Epoch   3 Batch   49/67   train_loss = 4.625\n",
      "Epoch   3 Batch   59/67   train_loss = 4.617\n",
      "Epoch   4 Batch    2/67   train_loss = 4.366\n",
      "Epoch   4 Batch   12/67   train_loss = 4.461\n",
      "Epoch   4 Batch   22/67   train_loss = 4.348\n",
      "Epoch   4 Batch   32/67   train_loss = 4.593\n",
      "Epoch   4 Batch   42/67   train_loss = 4.648\n",
      "Epoch   4 Batch   52/67   train_loss = 4.582\n",
      "Epoch   4 Batch   62/67   train_loss = 4.423\n",
      "Epoch   5 Batch    5/67   train_loss = 4.493\n",
      "Epoch   5 Batch   15/67   train_loss = 4.384\n",
      "Epoch   5 Batch   25/67   train_loss = 4.372\n",
      "Epoch   5 Batch   35/67   train_loss = 4.274\n",
      "Epoch   5 Batch   45/67   train_loss = 4.230\n",
      "Epoch   5 Batch   55/67   train_loss = 4.262\n",
      "Epoch   5 Batch   65/67   train_loss = 4.021\n",
      "Epoch   6 Batch    8/67   train_loss = 4.111\n",
      "Epoch   6 Batch   18/67   train_loss = 4.212\n",
      "Epoch   6 Batch   28/67   train_loss = 4.141\n",
      "Epoch   6 Batch   38/67   train_loss = 4.190\n",
      "Epoch   6 Batch   48/67   train_loss = 4.082\n",
      "Epoch   6 Batch   58/67   train_loss = 4.071\n",
      "Epoch   7 Batch    1/67   train_loss = 3.934\n",
      "Epoch   7 Batch   11/67   train_loss = 3.891\n",
      "Epoch   7 Batch   21/67   train_loss = 4.010\n",
      "Epoch   7 Batch   31/67   train_loss = 3.883\n",
      "Epoch   7 Batch   41/67   train_loss = 3.840\n",
      "Epoch   7 Batch   51/67   train_loss = 3.852\n",
      "Epoch   7 Batch   61/67   train_loss = 3.851\n",
      "Epoch   8 Batch    4/67   train_loss = 3.688\n",
      "Epoch   8 Batch   14/67   train_loss = 3.837\n",
      "Epoch   8 Batch   24/67   train_loss = 3.762\n",
      "Epoch   8 Batch   34/67   train_loss = 3.767\n",
      "Epoch   8 Batch   44/67   train_loss = 3.749\n",
      "Epoch   8 Batch   54/67   train_loss = 3.742\n",
      "Epoch   8 Batch   64/67   train_loss = 3.497\n",
      "Epoch   9 Batch    7/67   train_loss = 3.671\n",
      "Epoch   9 Batch   17/67   train_loss = 3.702\n",
      "Epoch   9 Batch   27/67   train_loss = 3.721\n",
      "Epoch   9 Batch   37/67   train_loss = 3.673\n",
      "Epoch   9 Batch   47/67   train_loss = 3.637\n",
      "Epoch   9 Batch   57/67   train_loss = 3.414\n",
      "Epoch  10 Batch    0/67   train_loss = 3.486\n",
      "Epoch  10 Batch   10/67   train_loss = 3.512\n",
      "Epoch  10 Batch   20/67   train_loss = 3.438\n",
      "Epoch  10 Batch   30/67   train_loss = 3.318\n",
      "Epoch  10 Batch   40/67   train_loss = 3.393\n",
      "Epoch  10 Batch   50/67   train_loss = 3.262\n",
      "Epoch  10 Batch   60/67   train_loss = 3.271\n",
      "Epoch  11 Batch    3/67   train_loss = 3.395\n",
      "Epoch  11 Batch   13/67   train_loss = 3.318\n",
      "Epoch  11 Batch   23/67   train_loss = 3.232\n",
      "Epoch  11 Batch   33/67   train_loss = 3.291\n",
      "Epoch  11 Batch   43/67   train_loss = 3.222\n",
      "Epoch  11 Batch   53/67   train_loss = 3.233\n",
      "Epoch  11 Batch   63/67   train_loss = 3.170\n",
      "Epoch  12 Batch    6/67   train_loss = 3.148\n",
      "Epoch  12 Batch   16/67   train_loss = 3.099\n",
      "Epoch  12 Batch   26/67   train_loss = 3.055\n",
      "Epoch  12 Batch   36/67   train_loss = 3.083\n",
      "Epoch  12 Batch   46/67   train_loss = 2.924\n",
      "Epoch  12 Batch   56/67   train_loss = 3.054\n",
      "Epoch  12 Batch   66/67   train_loss = 2.938\n",
      "Epoch  13 Batch    9/67   train_loss = 3.016\n",
      "Epoch  13 Batch   19/67   train_loss = 2.882\n",
      "Epoch  13 Batch   29/67   train_loss = 3.023\n",
      "Epoch  13 Batch   39/67   train_loss = 2.898\n",
      "Epoch  13 Batch   49/67   train_loss = 2.871\n",
      "Epoch  13 Batch   59/67   train_loss = 2.867\n",
      "Epoch  14 Batch    2/67   train_loss = 2.779\n",
      "Epoch  14 Batch   12/67   train_loss = 2.852\n",
      "Epoch  14 Batch   22/67   train_loss = 2.817\n",
      "Epoch  14 Batch   32/67   train_loss = 2.796\n",
      "Epoch  14 Batch   42/67   train_loss = 2.746\n",
      "Epoch  14 Batch   52/67   train_loss = 2.820\n",
      "Epoch  14 Batch   62/67   train_loss = 2.739\n",
      "Epoch  15 Batch    5/67   train_loss = 2.791\n",
      "Epoch  15 Batch   15/67   train_loss = 2.691\n",
      "Epoch  15 Batch   25/67   train_loss = 2.670\n",
      "Epoch  15 Batch   35/67   train_loss = 2.648\n",
      "Epoch  15 Batch   45/67   train_loss = 2.540\n",
      "Epoch  15 Batch   55/67   train_loss = 2.627\n",
      "Epoch  15 Batch   65/67   train_loss = 2.480\n",
      "Epoch  16 Batch    8/67   train_loss = 2.640\n",
      "Epoch  16 Batch   18/67   train_loss = 2.566\n",
      "Epoch  16 Batch   28/67   train_loss = 2.481\n",
      "Epoch  16 Batch   38/67   train_loss = 2.537\n",
      "Epoch  16 Batch   48/67   train_loss = 2.508\n",
      "Epoch  16 Batch   58/67   train_loss = 2.464\n",
      "Epoch  17 Batch    1/67   train_loss = 2.454\n",
      "Epoch  17 Batch   11/67   train_loss = 2.420\n",
      "Epoch  17 Batch   21/67   train_loss = 2.478\n",
      "Epoch  17 Batch   31/67   train_loss = 2.357\n",
      "Epoch  17 Batch   41/67   train_loss = 2.323\n",
      "Epoch  17 Batch   51/67   train_loss = 2.390\n",
      "Epoch  17 Batch   61/67   train_loss = 2.324\n",
      "Epoch  18 Batch    4/67   train_loss = 2.294\n",
      "Epoch  18 Batch   14/67   train_loss = 2.341\n",
      "Epoch  18 Batch   24/67   train_loss = 2.308\n",
      "Epoch  18 Batch   34/67   train_loss = 2.317\n",
      "Epoch  18 Batch   44/67   train_loss = 2.217\n",
      "Epoch  18 Batch   54/67   train_loss = 2.262\n",
      "Epoch  18 Batch   64/67   train_loss = 2.242\n",
      "Epoch  19 Batch    7/67   train_loss = 2.307\n",
      "Epoch  19 Batch   17/67   train_loss = 2.380\n",
      "Epoch  19 Batch   27/67   train_loss = 2.232\n",
      "Epoch  19 Batch   37/67   train_loss = 2.185\n",
      "Epoch  19 Batch   47/67   train_loss = 2.221\n",
      "Epoch  19 Batch   57/67   train_loss = 2.081\n",
      "Epoch  20 Batch    0/67   train_loss = 2.177\n",
      "Epoch  20 Batch   10/67   train_loss = 2.204\n",
      "Epoch  20 Batch   20/67   train_loss = 2.125\n",
      "Epoch  20 Batch   30/67   train_loss = 1.995\n",
      "Epoch  20 Batch   40/67   train_loss = 1.940\n",
      "Epoch  20 Batch   50/67   train_loss = 2.035\n",
      "Epoch  20 Batch   60/67   train_loss = 2.007\n",
      "Epoch  21 Batch    3/67   train_loss = 2.094\n",
      "Epoch  21 Batch   13/67   train_loss = 1.982\n",
      "Epoch  21 Batch   23/67   train_loss = 1.944\n",
      "Epoch  21 Batch   33/67   train_loss = 1.942\n",
      "Epoch  21 Batch   43/67   train_loss = 1.923\n",
      "Epoch  21 Batch   53/67   train_loss = 1.910\n",
      "Epoch  21 Batch   63/67   train_loss = 1.891\n",
      "Epoch  22 Batch    6/67   train_loss = 1.898\n",
      "Epoch  22 Batch   16/67   train_loss = 1.855\n",
      "Epoch  22 Batch   26/67   train_loss = 1.875\n",
      "Epoch  22 Batch   36/67   train_loss = 1.767\n",
      "Epoch  22 Batch   46/67   train_loss = 1.678\n",
      "Epoch  22 Batch   56/67   train_loss = 1.787\n",
      "Epoch  22 Batch   66/67   train_loss = 1.775\n",
      "Epoch  23 Batch    9/67   train_loss = 1.827\n",
      "Epoch  23 Batch   19/67   train_loss = 1.673\n",
      "Epoch  23 Batch   29/67   train_loss = 1.763\n",
      "Epoch  23 Batch   39/67   train_loss = 1.738\n",
      "Epoch  23 Batch   49/67   train_loss = 1.661\n",
      "Epoch  23 Batch   59/67   train_loss = 1.634\n",
      "Epoch  24 Batch    2/67   train_loss = 1.628\n",
      "Epoch  24 Batch   12/67   train_loss = 1.715\n",
      "Epoch  24 Batch   22/67   train_loss = 1.693\n",
      "Epoch  24 Batch   32/67   train_loss = 1.551\n",
      "Epoch  24 Batch   42/67   train_loss = 1.523\n",
      "Epoch  24 Batch   52/67   train_loss = 1.591\n",
      "Epoch  24 Batch   62/67   train_loss = 1.499\n",
      "Epoch  25 Batch    5/67   train_loss = 1.510\n",
      "Epoch  25 Batch   15/67   train_loss = 1.487\n",
      "Epoch  25 Batch   25/67   train_loss = 1.529\n",
      "Epoch  25 Batch   35/67   train_loss = 1.457\n",
      "Epoch  25 Batch   45/67   train_loss = 1.398\n",
      "Epoch  25 Batch   55/67   train_loss = 1.386\n",
      "Epoch  25 Batch   65/67   train_loss = 1.377\n",
      "Epoch  26 Batch    8/67   train_loss = 1.395\n",
      "Epoch  26 Batch   18/67   train_loss = 1.414\n",
      "Epoch  26 Batch   28/67   train_loss = 1.319\n",
      "Epoch  26 Batch   38/67   train_loss = 1.264\n",
      "Epoch  26 Batch   48/67   train_loss = 1.338\n",
      "Epoch  26 Batch   58/67   train_loss = 1.212\n",
      "Epoch  27 Batch    1/67   train_loss = 1.280\n",
      "Epoch  27 Batch   11/67   train_loss = 1.219\n"
     ]
    },
    {
     "name": "stdout",
     "output_type": "stream",
     "text": [
      "Epoch  27 Batch   21/67   train_loss = 1.344\n",
      "Epoch  27 Batch   31/67   train_loss = 1.257\n",
      "Epoch  27 Batch   41/67   train_loss = 1.268\n",
      "Epoch  27 Batch   51/67   train_loss = 1.282\n",
      "Epoch  27 Batch   61/67   train_loss = 1.122\n",
      "Epoch  28 Batch    4/67   train_loss = 1.104\n",
      "Epoch  28 Batch   14/67   train_loss = 1.140\n",
      "Epoch  28 Batch   24/67   train_loss = 1.156\n",
      "Epoch  28 Batch   34/67   train_loss = 1.153\n",
      "Epoch  28 Batch   44/67   train_loss = 1.018\n",
      "Epoch  28 Batch   54/67   train_loss = 1.067\n",
      "Epoch  28 Batch   64/67   train_loss = 1.052\n",
      "Epoch  29 Batch    7/67   train_loss = 1.108\n",
      "Epoch  29 Batch   17/67   train_loss = 1.135\n",
      "Epoch  29 Batch   27/67   train_loss = 1.010\n",
      "Epoch  29 Batch   37/67   train_loss = 0.961\n",
      "Epoch  29 Batch   47/67   train_loss = 1.002\n",
      "Epoch  29 Batch   57/67   train_loss = 0.953\n",
      "Epoch  30 Batch    0/67   train_loss = 0.960\n",
      "Epoch  30 Batch   10/67   train_loss = 1.006\n",
      "Epoch  30 Batch   20/67   train_loss = 1.019\n",
      "Epoch  30 Batch   30/67   train_loss = 0.898\n",
      "Epoch  30 Batch   40/67   train_loss = 0.841\n",
      "Epoch  30 Batch   50/67   train_loss = 0.858\n",
      "Epoch  30 Batch   60/67   train_loss = 0.873\n",
      "Epoch  31 Batch    3/67   train_loss = 0.908\n",
      "Epoch  31 Batch   13/67   train_loss = 0.860\n",
      "Epoch  31 Batch   23/67   train_loss = 0.870\n",
      "Epoch  31 Batch   33/67   train_loss = 0.845\n",
      "Epoch  31 Batch   43/67   train_loss = 0.862\n",
      "Epoch  31 Batch   53/67   train_loss = 0.739\n",
      "Epoch  31 Batch   63/67   train_loss = 0.764\n",
      "Epoch  32 Batch    6/67   train_loss = 0.774\n",
      "Epoch  32 Batch   16/67   train_loss = 0.808\n",
      "Epoch  32 Batch   26/67   train_loss = 0.847\n",
      "Epoch  32 Batch   36/67   train_loss = 0.742\n",
      "Epoch  32 Batch   46/67   train_loss = 0.694\n",
      "Epoch  32 Batch   56/67   train_loss = 0.765\n",
      "Epoch  32 Batch   66/67   train_loss = 0.746\n",
      "Epoch  33 Batch    9/67   train_loss = 0.727\n",
      "Epoch  33 Batch   19/67   train_loss = 0.678\n",
      "Epoch  33 Batch   29/67   train_loss = 0.669\n",
      "Epoch  33 Batch   39/67   train_loss = 0.712\n",
      "Epoch  33 Batch   49/67   train_loss = 0.720\n",
      "Epoch  33 Batch   59/67   train_loss = 0.722\n",
      "Epoch  34 Batch    2/67   train_loss = 0.713\n",
      "Epoch  34 Batch   12/67   train_loss = 0.708\n",
      "Epoch  34 Batch   22/67   train_loss = 0.724\n",
      "Epoch  34 Batch   32/67   train_loss = 0.643\n",
      "Epoch  34 Batch   42/67   train_loss = 0.573\n",
      "Epoch  34 Batch   52/67   train_loss = 0.621\n",
      "Epoch  34 Batch   62/67   train_loss = 0.587\n",
      "Epoch  35 Batch    5/67   train_loss = 0.644\n",
      "Epoch  35 Batch   15/67   train_loss = 0.582\n",
      "Epoch  35 Batch   25/67   train_loss = 0.659\n",
      "Epoch  35 Batch   35/67   train_loss = 0.613\n",
      "Epoch  35 Batch   45/67   train_loss = 0.563\n",
      "Epoch  35 Batch   55/67   train_loss = 0.564\n",
      "Epoch  35 Batch   65/67   train_loss = 0.552\n",
      "Epoch  36 Batch    8/67   train_loss = 0.564\n",
      "Epoch  36 Batch   18/67   train_loss = 0.579\n",
      "Epoch  36 Batch   28/67   train_loss = 0.519\n",
      "Epoch  36 Batch   38/67   train_loss = 0.491\n",
      "Epoch  36 Batch   48/67   train_loss = 0.542\n",
      "Epoch  36 Batch   58/67   train_loss = 0.490\n",
      "Epoch  37 Batch    1/67   train_loss = 0.471\n",
      "Epoch  37 Batch   11/67   train_loss = 0.498\n",
      "Epoch  37 Batch   21/67   train_loss = 0.527\n",
      "Epoch  37 Batch   31/67   train_loss = 0.562\n",
      "Epoch  37 Batch   41/67   train_loss = 0.546\n",
      "Epoch  37 Batch   51/67   train_loss = 0.537\n",
      "Epoch  37 Batch   61/67   train_loss = 0.460\n",
      "Epoch  38 Batch    4/67   train_loss = 0.450\n",
      "Epoch  38 Batch   14/67   train_loss = 0.469\n",
      "Epoch  38 Batch   24/67   train_loss = 0.470\n",
      "Epoch  38 Batch   34/67   train_loss = 0.477\n",
      "Epoch  38 Batch   44/67   train_loss = 0.428\n",
      "Epoch  38 Batch   54/67   train_loss = 0.445\n",
      "Epoch  38 Batch   64/67   train_loss = 0.400\n",
      "Epoch  39 Batch    7/67   train_loss = 0.453\n",
      "Epoch  39 Batch   17/67   train_loss = 0.485\n",
      "Epoch  39 Batch   27/67   train_loss = 0.394\n",
      "Epoch  39 Batch   37/67   train_loss = 0.430\n",
      "Epoch  39 Batch   47/67   train_loss = 0.434\n",
      "Epoch  39 Batch   57/67   train_loss = 0.405\n",
      "Epoch  40 Batch    0/67   train_loss = 0.389\n",
      "Epoch  40 Batch   10/67   train_loss = 0.399\n",
      "Epoch  40 Batch   20/67   train_loss = 0.459\n",
      "Epoch  40 Batch   30/67   train_loss = 0.371\n",
      "Epoch  40 Batch   40/67   train_loss = 0.366\n",
      "Epoch  40 Batch   50/67   train_loss = 0.366\n",
      "Epoch  40 Batch   60/67   train_loss = 0.388\n",
      "Epoch  41 Batch    3/67   train_loss = 0.367\n",
      "Epoch  41 Batch   13/67   train_loss = 0.354\n",
      "Epoch  41 Batch   23/67   train_loss = 0.400\n",
      "Epoch  41 Batch   33/67   train_loss = 0.333\n",
      "Epoch  41 Batch   43/67   train_loss = 0.360\n",
      "Epoch  41 Batch   53/67   train_loss = 0.322\n",
      "Epoch  41 Batch   63/67   train_loss = 0.363\n",
      "Epoch  42 Batch    6/67   train_loss = 0.358\n",
      "Epoch  42 Batch   16/67   train_loss = 0.347\n",
      "Epoch  42 Batch   26/67   train_loss = 0.387\n",
      "Epoch  42 Batch   36/67   train_loss = 0.330\n",
      "Epoch  42 Batch   46/67   train_loss = 0.304\n",
      "Epoch  42 Batch   56/67   train_loss = 0.353\n",
      "Epoch  42 Batch   66/67   train_loss = 0.317\n",
      "Epoch  43 Batch    9/67   train_loss = 0.323\n",
      "Epoch  43 Batch   19/67   train_loss = 0.315\n",
      "Epoch  43 Batch   29/67   train_loss = 0.314\n",
      "Epoch  43 Batch   39/67   train_loss = 0.340\n",
      "Epoch  43 Batch   49/67   train_loss = 0.334\n",
      "Epoch  43 Batch   59/67   train_loss = 0.350\n",
      "Epoch  44 Batch    2/67   train_loss = 0.326\n",
      "Epoch  44 Batch   12/67   train_loss = 0.350\n",
      "Epoch  44 Batch   22/67   train_loss = 0.330\n",
      "Epoch  44 Batch   32/67   train_loss = 0.328\n",
      "Epoch  44 Batch   42/67   train_loss = 0.277\n",
      "Epoch  44 Batch   52/67   train_loss = 0.313\n",
      "Epoch  44 Batch   62/67   train_loss = 0.322\n",
      "Epoch  45 Batch    5/67   train_loss = 0.298\n",
      "Epoch  45 Batch   15/67   train_loss = 0.259\n",
      "Epoch  45 Batch   25/67   train_loss = 0.313\n",
      "Epoch  45 Batch   35/67   train_loss = 0.327\n",
      "Epoch  45 Batch   45/67   train_loss = 0.286\n",
      "Epoch  45 Batch   55/67   train_loss = 0.298\n",
      "Epoch  45 Batch   65/67   train_loss = 0.304\n",
      "Epoch  46 Batch    8/67   train_loss = 0.279\n",
      "Epoch  46 Batch   18/67   train_loss = 0.280\n",
      "Epoch  46 Batch   28/67   train_loss = 0.263\n",
      "Epoch  46 Batch   38/67   train_loss = 0.267\n",
      "Epoch  46 Batch   48/67   train_loss = 0.263\n",
      "Epoch  46 Batch   58/67   train_loss = 0.285\n",
      "Epoch  47 Batch    1/67   train_loss = 0.250\n",
      "Epoch  47 Batch   11/67   train_loss = 0.269\n",
      "Epoch  47 Batch   21/67   train_loss = 0.283\n",
      "Epoch  47 Batch   31/67   train_loss = 0.322\n",
      "Epoch  47 Batch   41/67   train_loss = 0.298\n",
      "Epoch  47 Batch   51/67   train_loss = 0.308\n",
      "Epoch  47 Batch   61/67   train_loss = 0.275\n",
      "Epoch  48 Batch    4/67   train_loss = 0.265\n",
      "Epoch  48 Batch   14/67   train_loss = 0.258\n",
      "Epoch  48 Batch   24/67   train_loss = 0.258\n",
      "Epoch  48 Batch   34/67   train_loss = 0.283\n",
      "Epoch  48 Batch   44/67   train_loss = 0.238\n",
      "Epoch  48 Batch   54/67   train_loss = 0.249\n",
      "Epoch  48 Batch   64/67   train_loss = 0.250\n",
      "Epoch  49 Batch    7/67   train_loss = 0.291\n",
      "Epoch  49 Batch   17/67   train_loss = 0.296\n",
      "Epoch  49 Batch   27/67   train_loss = 0.229\n",
      "Epoch  49 Batch   37/67   train_loss = 0.275\n",
      "Epoch  49 Batch   47/67   train_loss = 0.261\n",
      "Epoch  49 Batch   57/67   train_loss = 0.261\n",
      "Model Trained and Saved\n"
     ]
    }
   ],
   "source": [
    "\"\"\"\n",
    "DON'T MODIFY ANYTHING IN THIS CELL\n",
    "\"\"\"\n",
    "batches = get_batches(int_text, batch_size, seq_length)\n",
    "\n",
    "with tf.Session(graph=train_graph) as sess:\n",
    "    sess.run(tf.global_variables_initializer())\n",
    "\n",
    "    for epoch_i in range(num_epochs):\n",
    "        state = sess.run(initial_state, {input_text: batches[0][0]})\n",
    "\n",
    "        for batch_i, (x, y) in enumerate(batches):\n",
    "            feed = {\n",
    "                input_text: x,\n",
    "                targets: y,\n",
    "                initial_state: state,\n",
    "                lr: learning_rate}\n",
    "            train_loss, state, _ = sess.run([cost, final_state, train_op], feed)\n",
    "\n",
    "            # Show every <show_every_n_batches> batches\n",
    "            if (epoch_i * len(batches) + batch_i) % show_every_n_batches == 0:\n",
    "                print('Epoch {:>3} Batch {:>4}/{}   train_loss = {:.3f}'.format(\n",
    "                    epoch_i,\n",
    "                    batch_i,\n",
    "                    len(batches),\n",
    "                    train_loss))\n",
    "\n",
    "    # Save Model\n",
    "    saver = tf.train.Saver()\n",
    "    saver.save(sess, save_dir)\n",
    "    print('Model Trained and Saved')"
   ]
  },
  {
   "cell_type": "markdown",
   "metadata": {},
   "source": [
    "## Save Parameters\n",
    "Save `seq_length` and `save_dir` for generating a new TV script."
   ]
  },
  {
   "cell_type": "code",
   "execution_count": 119,
   "metadata": {},
   "outputs": [],
   "source": [
    "\"\"\"\n",
    "DON'T MODIFY ANYTHING IN THIS CELL\n",
    "\"\"\"\n",
    "# Save parameters for checkpoint\n",
    "helper.save_params((seq_length, save_dir))"
   ]
  },
  {
   "cell_type": "markdown",
   "metadata": {},
   "source": [
    "# Checkpoint"
   ]
  },
  {
   "cell_type": "code",
   "execution_count": 120,
   "metadata": {},
   "outputs": [],
   "source": [
    "\"\"\"\n",
    "DON'T MODIFY ANYTHING IN THIS CELL\n",
    "\"\"\"\n",
    "import tensorflow as tf\n",
    "import numpy as np\n",
    "import helper\n",
    "import problem_unittests as tests\n",
    "\n",
    "_, vocab_to_int, int_to_vocab, token_dict = helper.load_preprocess()\n",
    "seq_length, load_dir = helper.load_params()"
   ]
  },
  {
   "cell_type": "markdown",
   "metadata": {},
   "source": [
    "## Implement Generate Functions\n",
    "### Get Tensors\n",
    "Get tensors from `loaded_graph` using the function [`get_tensor_by_name()`](https://www.tensorflow.org/api_docs/python/tf/Graph#get_tensor_by_name).  Get the tensors using the following names:\n",
    "- \"input:0\"\n",
    "- \"initial_state:0\"\n",
    "- \"final_state:0\"\n",
    "- \"probs:0\"\n",
    "\n",
    "Return the tensors in the following tuple `(InputTensor, InitialStateTensor, FinalStateTensor, ProbsTensor)` "
   ]
  },
  {
   "cell_type": "code",
   "execution_count": 121,
   "metadata": {},
   "outputs": [
    {
     "name": "stdout",
     "output_type": "stream",
     "text": [
      "Tests Passed\n"
     ]
    }
   ],
   "source": [
    "def get_tensors(loaded_graph):\n",
    "    \"\"\"\n",
    "    Get input, initial state, final state, and probabilities tensor from <loaded_graph>\n",
    "    :param loaded_graph: TensorFlow graph loaded from file\n",
    "    :return: Tuple (InputTensor, InitialStateTensor, FinalStateTensor, ProbsTensor)\n",
    "    \"\"\"\n",
    "    # TODO: Implement Function\n",
    "    input_tensor = loaded_graph.get_tensor_by_name(\"input:0\")\n",
    "    initial_tensor = loaded_graph.get_tensor_by_name(\"initial_state:0\")\n",
    "    final_tensor = loaded_graph.get_tensor_by_name(\"final_state:0\")\n",
    "    probs_tensor = loaded_graph.get_tensor_by_name(\"probs:0\")\n",
    "    return input_tensor, initial_tensor, final_tensor, probs_tensor\n",
    "\n",
    "\n",
    "\"\"\"\n",
    "DON'T MODIFY ANYTHING IN THIS CELL THAT IS BELOW THIS LINE\n",
    "\"\"\"\n",
    "tests.test_get_tensors(get_tensors)"
   ]
  },
  {
   "cell_type": "markdown",
   "metadata": {},
   "source": [
    "### Choose Word\n",
    "Implement the `pick_word()` function to select the next word using `probabilities`."
   ]
  },
  {
   "cell_type": "code",
   "execution_count": 122,
   "metadata": {},
   "outputs": [
    {
     "name": "stdout",
     "output_type": "stream",
     "text": [
      "Tests Passed\n"
     ]
    }
   ],
   "source": [
    "def pick_word(probabilities, int_to_vocab):\n",
    "    \"\"\"\n",
    "    Pick the next word in the generated text\n",
    "    :param probabilities: Probabilites of the next word\n",
    "    :param int_to_vocab: Dictionary of word ids as the keys and words as the values\n",
    "    :return: String of the predicted word\n",
    "    \"\"\"\n",
    "    # TODO: Implement Function\n",
    "    predicted_word = int_to_vocab[np.random.choice(range(len(probabilities)), p=probabilities)]\n",
    "#     print(predicted_word)\n",
    "    return predicted_word\n",
    "\n",
    "\n",
    "\"\"\"\n",
    "DON'T MODIFY ANYTHING IN THIS CELL THAT IS BELOW THIS LINE\n",
    "\"\"\"\n",
    "tests.test_pick_word(pick_word)"
   ]
  },
  {
   "cell_type": "markdown",
   "metadata": {},
   "source": [
    "## Generate TV Script\n",
    "This will generate the TV script for you.  Set `gen_length` to the length of TV script you want to generate."
   ]
  },
  {
   "cell_type": "code",
   "execution_count": 123,
   "metadata": {},
   "outputs": [
    {
     "name": "stdout",
     "output_type": "stream",
     "text": [
      "moe_szyslak: here you go, mr. plow. my mom thinks for me, and therefore up to be walking instead of a big idea of a hundred and kissed him deeply, then said:(imitating andy griffith)\n",
      "lenny_leonard:(admiring) well, this is homer, homer. we got a big payday moe_szyslak: and who could turn into the respect.\n",
      "moe_szyslak: ah, she ain't way no?\n",
      "marge_simpson: what's that say?\n",
      "marge_simpson: no, above it.\n",
      "larry: hey, that's sweet. can you come up.\n",
      "homer_simpson: all right. but i'm not safe from now.\n",
      "\n",
      "\n",
      "teenage_bart:(aghast) it is, bart? boy, you didn't.\n",
      "lenny_leonard:(holding cup) a hundred and / i thought...\n",
      "crowd:(chanting) barney!(laughs) soon! you see this bowl?\n",
      "moe_szyslak:(out) hi, and tell you are overstressed. you think we could do it in the bar.\n",
      "homer_simpson: you can't talk about you your presents.\n",
      "chief_wiggum:(friendly)\n"
     ]
    }
   ],
   "source": [
    "gen_length = 200\n",
    "# homer_simpson, moe_szyslak, or Barney_Gumble\n",
    "prime_word = 'moe_szyslak'\n",
    "\n",
    "\"\"\"\n",
    "DON'T MODIFY ANYTHING IN THIS CELL THAT IS BELOW THIS LINE\n",
    "\"\"\"\n",
    "loaded_graph = tf.Graph()\n",
    "with tf.Session(graph=loaded_graph) as sess:\n",
    "    # Load saved model\n",
    "    loader = tf.train.import_meta_graph(load_dir + '.meta')\n",
    "    loader.restore(sess, load_dir)\n",
    "\n",
    "    # Get Tensors from loaded model\n",
    "    input_text, initial_state, final_state, probs = get_tensors(loaded_graph)\n",
    "\n",
    "    # Sentences generation setup\n",
    "    gen_sentences = [prime_word + ':']\n",
    "    prev_state = sess.run(initial_state, {input_text: np.array([[1]])})\n",
    "\n",
    "    # Generate sentences\n",
    "    for n in range(gen_length):\n",
    "        # Dynamic Input\n",
    "        dyn_input = [[vocab_to_int[word] for word in gen_sentences[-seq_length:]]]\n",
    "        dyn_seq_length = len(dyn_input[0])\n",
    "\n",
    "        # Get Prediction\n",
    "        probabilities, prev_state = sess.run(\n",
    "            [probs, final_state],\n",
    "            {input_text: dyn_input, initial_state: prev_state})\n",
    "        \n",
    "        pred_word = pick_word(probabilities[dyn_seq_length-1], int_to_vocab)\n",
    "\n",
    "        gen_sentences.append(pred_word)\n",
    "    \n",
    "    # Remove tokens\n",
    "    tv_script = ' '.join(gen_sentences)\n",
    "    for key, token in token_dict.items():\n",
    "        ending = ' ' if key in ['\\n', '(', '\"'] else ''\n",
    "        tv_script = tv_script.replace(' ' + token.lower(), key)\n",
    "    tv_script = tv_script.replace('\\n ', '\\n')\n",
    "    tv_script = tv_script.replace('( ', '(')\n",
    "        \n",
    "    print(tv_script)"
   ]
  },
  {
   "cell_type": "markdown",
   "metadata": {},
   "source": [
    "# The TV Script is Nonsensical\n",
    "It's ok if the TV script doesn't make any sense.  We trained on less than a megabyte of text.  In order to get good results, you'll have to use a smaller vocabulary or get more data.  Luckly there's more data!  As we mentioned in the begging of this project, this is a subset of [another dataset](https://www.kaggle.com/wcukierski/the-simpsons-by-the-data).  We didn't have you train on all the data, because that would take too long.  However, you are free to train your neural network on all the data.  After you complete the project, of course.\n",
    "# Submitting This Project\n",
    "When submitting this project, make sure to run all the cells before saving the notebook. Save the notebook file as \"dlnd_tv_script_generation.ipynb\" and save it as a HTML file under \"File\" -> \"Download as\". Include the \"helper.py\" and \"problem_unittests.py\" files in your submission."
   ]
  }
 ],
 "metadata": {
  "kernelspec": {
   "display_name": "Python 3",
   "language": "python",
   "name": "python3"
  },
  "language_info": {
   "codemirror_mode": {
    "name": "ipython",
    "version": 3
   },
   "file_extension": ".py",
   "mimetype": "text/x-python",
   "name": "python",
   "nbconvert_exporter": "python",
   "pygments_lexer": "ipython3",
   "version": "3.5.2"
  },
  "widgets": {
   "state": {},
   "version": "1.1.2"
  }
 },
 "nbformat": 4,
 "nbformat_minor": 1
}
